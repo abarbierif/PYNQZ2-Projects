{
 "cells": [
  {
   "cell_type": "code",
   "execution_count": 1,
   "id": "469ad4b3",
   "metadata": {},
   "outputs": [
    {
     "data": {
      "application/javascript": [
       "\n",
       "try {\n",
       "require(['notebook/js/codecell'], function(codecell) {\n",
       "  codecell.CodeCell.options_default.highlight_modes[\n",
       "      'magic_text/x-csrc'] = {'reg':[/^%%microblaze/]};\n",
       "  Jupyter.notebook.events.one('kernel_ready.Kernel', function(){\n",
       "      Jupyter.notebook.get_cells().map(function(cell){\n",
       "          if (cell.cell_type == 'code'){ cell.auto_highlight(); } }) ;\n",
       "  });\n",
       "});\n",
       "} catch (e) {};\n"
      ]
     },
     "metadata": {},
     "output_type": "display_data"
    },
    {
     "data": {
      "application/javascript": [
       "\n",
       "try {\n",
       "require(['notebook/js/codecell'], function(codecell) {\n",
       "  codecell.CodeCell.options_default.highlight_modes[\n",
       "      'magic_text/x-csrc'] = {'reg':[/^%%pybind11/]};\n",
       "  Jupyter.notebook.events.one('kernel_ready.Kernel', function(){\n",
       "      Jupyter.notebook.get_cells().map(function(cell){\n",
       "          if (cell.cell_type == 'code'){ cell.auto_highlight(); } }) ;\n",
       "  });\n",
       "});\n",
       "} catch (e) {};\n"
      ]
     },
     "metadata": {},
     "output_type": "display_data"
    }
   ],
   "source": [
    "from pynq import Overlay\n",
    "from pynq import MMIO\n",
    "import numpy as np\n",
    "\n",
    "# Program bitstream to FPGA\n",
    "overlay = Overlay('PYNQMemory.bit')\n",
    "\n",
    "# Access to memory map of the AXI GPIO 0\n",
    "GPIO0_ADDR_BASE = 0x41200000\n",
    "GPIO0_ADDR_RANGE = 0x10000\n",
    "gpio0_obj = MMIO(GPIO0_ADDR_BASE, GPIO0_ADDR_RANGE)\n",
    "\n",
    "# Access to memory map of the BRAM 0\n",
    "BRAM0_ADDR_BASE = 0x40000000\n",
    "BRAM0_ADDR_RANGE = 0x2000\n",
    "bram0_obj = MMIO(BRAM0_ADDR_BASE, BRAM0_ADDR_RANGE)\n",
    "\n",
    "# Access to memory map of the BRAM 1\n",
    "BRAM1_ADDR_BASE = 0x42000000\n",
    "BRAM1_ADDR_RANGE = 0x2000\n",
    "bram1_obj = MMIO(BRAM1_ADDR_BASE, BRAM1_ADDR_RANGE)"
   ]
  },
  {
   "cell_type": "code",
   "execution_count": 2,
   "id": "2cda2c32",
   "metadata": {},
   "outputs": [],
   "source": [
    "# Input array\n",
    "input_data = np.zeros((8,), dtype=np.uint32)"
   ]
  },
  {
   "cell_type": "code",
   "execution_count": 10,
   "id": "aa45facf",
   "metadata": {},
   "outputs": [],
   "source": [
    "# Write input to array\n",
    "input_data[0] = 0x01020103\n",
    "input_data[1] = 0x00000801\n",
    "input_data[2] = 0x0a020403\n",
    "input_data[3] = 0x0b020304\n",
    "input_data[4] = 0x010c0605\n",
    "input_data[5] = 0x0d020506\n",
    "input_data[6] = 0x010e0807\n",
    "input_data[7] = 0x0f020708"
   ]
  },
  {
   "cell_type": "code",
   "execution_count": 11,
   "id": "bcda5f24",
   "metadata": {},
   "outputs": [],
   "source": [
    "# Write array to BRAM 0\n",
    "j = 0;\n",
    "for i in range(0,8*4,4):\n",
    "    bram0_obj.write(i, int(input_data[j]))\n",
    "    j += 1"
   ]
  },
  {
   "cell_type": "code",
   "execution_count": 12,
   "id": "c81d99a3",
   "metadata": {},
   "outputs": [
    {
     "name": "stdout",
     "output_type": "stream",
     "text": [
      "0x01020103\n",
      "0x00000801\n",
      "0x0A020403\n",
      "0x0B020304\n",
      "0x010C0605\n",
      "0x0D020506\n",
      "0x010E0807\n",
      "0x0F020708\n"
     ]
    }
   ],
   "source": [
    "# Check BRAM 0\n",
    "for i in range(0,8*4,4):\n",
    "    print(\"0x%08X\" % (bram0_obj.read(i)))"
   ]
  },
  {
   "cell_type": "code",
   "execution_count": 13,
   "id": "68d0770a",
   "metadata": {},
   "outputs": [],
   "source": [
    "gpio0_obj.write(0, 1)\n",
    "gpio0_obj.write(0, 0)\n",
    "while (gpio0_obj.read(8) == 0):\n",
    "    pass"
   ]
  },
  {
   "cell_type": "code",
   "execution_count": 14,
   "id": "d6c78469",
   "metadata": {},
   "outputs": [],
   "source": [
    "# Output array\n",
    "output_data = np.zeros((8,), dtype=np.uint32)"
   ]
  },
  {
   "cell_type": "code",
   "execution_count": 15,
   "id": "14ddce31",
   "metadata": {},
   "outputs": [],
   "source": [
    "# Read BRAM 1 to array\n",
    "j = 0;\n",
    "for i in range(0,8*4,4):\n",
    "    output_data[j] = bram1_obj.read(i)\n",
    "    j += 1"
   ]
  },
  {
   "cell_type": "code",
   "execution_count": 16,
   "id": "3f886ca7",
   "metadata": {},
   "outputs": [
    {
     "name": "stdout",
     "output_type": "stream",
     "text": [
      "1\n",
      "7\n",
      "6\n",
      "7\n",
      "6\n",
      "7\n",
      "6\n",
      "7\n"
     ]
    }
   ],
   "source": [
    "# Check output array\n",
    "for i in range(8):\n",
    "    print(\"%d\" % output_data[i])"
   ]
  }
 ],
 "metadata": {
  "kernelspec": {
   "display_name": "Python 3 (ipykernel)",
   "language": "python",
   "name": "python3"
  },
  "language_info": {
   "codemirror_mode": {
    "name": "ipython",
    "version": 3
   },
   "file_extension": ".py",
   "mimetype": "text/x-python",
   "name": "python",
   "nbconvert_exporter": "python",
   "pygments_lexer": "ipython3",
   "version": "3.10.4"
  }
 },
 "nbformat": 4,
 "nbformat_minor": 5
}
